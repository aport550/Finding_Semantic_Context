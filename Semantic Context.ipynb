{
 "cells": [
  {
   "cell_type": "code",
   "execution_count": 238,
   "metadata": {},
   "outputs": [],
   "source": [
    "import pandas as pd\n",
    "import numpy as np\n",
    "import nltk\n",
    "import re\n",
    "import spacy\n",
    "from nltk.corpus import stopwords  \n",
    "from nltk.corpus import wordnet\n",
    "import string\n",
    "from nltk.stem import WordNetLemmatizer\n",
    "from itertools import chain\n"
   ]
  },
  {
   "cell_type": "markdown",
   "metadata": {},
   "source": [
    "# Algorithm to find semantic context"
   ]
  },
  {
   "cell_type": "code",
   "execution_count": 246,
   "metadata": {},
   "outputs": [],
   "source": [
    "trigger_words = [\"what\",\"where\",\"who\",\"how\",\"which\",\"name\",\n",
    "                 \"describe\",\"list\",\"identify\",\"if\",\"whats\",\"why\",\"did\"]\n",
    "\n",
    "def find_context(q):\n",
    "    if '?' not in q:\n",
    "        q  = q + '?'\n",
    "    q = re.sub('[^a-zA-Z0-9\\?]',' ', q.lower())\n",
    "    qdict = {}\n",
    "    for word in trigger_words:\n",
    "        if word in set(q.split(' ')):\n",
    "            context = re.findall(r\"{}[^?]+\\?\".format(word),q)\n",
    "            qdict[word] = context\n",
    "    return qdict\n"
   ]
  },
  {
   "cell_type": "code",
   "execution_count": 74,
   "metadata": {},
   "outputs": [
    {
     "data": {
      "text/plain": [
       "{'what': ['what is the capital of new york?'], 'where': ['where is new york?']}"
      ]
     },
     "execution_count": 74,
     "metadata": {},
     "output_type": "execute_result"
    }
   ],
   "source": [
    "find_context(\"What is the capital of New York? Where is New York?\")"
   ]
  },
  {
   "cell_type": "code",
   "execution_count": 75,
   "metadata": {},
   "outputs": [
    {
     "data": {
      "text/plain": [
       "{'how': ['how many days does it take the moon to revolve around earth?']}"
      ]
     },
     "execution_count": 75,
     "metadata": {},
     "output_type": "execute_result"
    }
   ],
   "source": [
    "find_context(\"How many days does it take the moon to revolve around Earth?\")"
   ]
  },
  {
   "cell_type": "code",
   "execution_count": 76,
   "metadata": {},
   "outputs": [
    {
     "data": {
      "text/plain": [
       "{'name': ['name all presidents during the great depression?']}"
      ]
     },
     "execution_count": 76,
     "metadata": {},
     "output_type": "execute_result"
    }
   ],
   "source": [
    "find_context(\"Name all presidents during the great depression\")"
   ]
  },
  {
   "cell_type": "code",
   "execution_count": 77,
   "metadata": {},
   "outputs": [],
   "source": [
    "questions = [\"What is the capital of New York? Where is New York?\",\n",
    "             \"How many days does it take the moon to revolve around Earth?\",\n",
    "             \"Name all presidents during the great depression.\"\n",
    "]"
   ]
  },
  {
   "cell_type": "code",
   "execution_count": 78,
   "metadata": {},
   "outputs": [],
   "source": [
    "qtable = [[list(qdict.keys()),list(qdict.values())] for qdict in\n",
    "          list(map(find_context,questions))]\n"
   ]
  },
  {
   "cell_type": "code",
   "execution_count": 79,
   "metadata": {},
   "outputs": [],
   "source": [
    "questions_table = pd.DataFrame(qtable,columns = [\"Contexts\",\"Questions\"])"
   ]
  },
  {
   "cell_type": "code",
   "execution_count": 80,
   "metadata": {},
   "outputs": [
    {
     "data": {
      "text/html": [
       "<div>\n",
       "<style scoped>\n",
       "    .dataframe tbody tr th:only-of-type {\n",
       "        vertical-align: middle;\n",
       "    }\n",
       "\n",
       "    .dataframe tbody tr th {\n",
       "        vertical-align: top;\n",
       "    }\n",
       "\n",
       "    .dataframe thead th {\n",
       "        text-align: right;\n",
       "    }\n",
       "</style>\n",
       "<table border=\"1\" class=\"dataframe\">\n",
       "  <thead>\n",
       "    <tr style=\"text-align: right;\">\n",
       "      <th></th>\n",
       "      <th>Contexts</th>\n",
       "      <th>Questions</th>\n",
       "    </tr>\n",
       "  </thead>\n",
       "  <tbody>\n",
       "    <tr>\n",
       "      <td>0</td>\n",
       "      <td>[what, where]</td>\n",
       "      <td>[[what is the capital of new york?], [where is...</td>\n",
       "    </tr>\n",
       "    <tr>\n",
       "      <td>1</td>\n",
       "      <td>[how]</td>\n",
       "      <td>[[how many days does it take the moon to revol...</td>\n",
       "    </tr>\n",
       "    <tr>\n",
       "      <td>2</td>\n",
       "      <td>[name]</td>\n",
       "      <td>[[name all presidents during the great depress...</td>\n",
       "    </tr>\n",
       "  </tbody>\n",
       "</table>\n",
       "</div>"
      ],
      "text/plain": [
       "        Contexts                                          Questions\n",
       "0  [what, where]  [[what is the capital of new york?], [where is...\n",
       "1          [how]  [[how many days does it take the moon to revol...\n",
       "2         [name]  [[name all presidents during the great depress..."
      ]
     },
     "execution_count": 80,
     "metadata": {},
     "output_type": "execute_result"
    }
   ],
   "source": [
    "questions_table"
   ]
  },
  {
   "cell_type": "code",
   "execution_count": 166,
   "metadata": {},
   "outputs": [],
   "source": [
    "answers = [\n",
    "    \"Albany.  United States\",\n",
    "    \"27\",\n",
    "    \"Herbert Hoover and Franklin Roosevelt\"\n",
    "]"
   ]
  },
  {
   "cell_type": "code",
   "execution_count": 221,
   "metadata": {},
   "outputs": [
    {
     "data": {
      "text/plain": [
       "[['27', '27', 'NUM', 'CD', 'CARDINAL', 'ROOT', 'dd', False]]"
      ]
     },
     "execution_count": 221,
     "metadata": {},
     "output_type": "execute_result"
    }
   ],
   "source": [
    "stop_words = stopwords.words('english')\n",
    "nlp = spacy.load(\"en_core_web_sm\")\n",
    "stop_words.remove(\"no\")\n",
    "def get_bigrams(words):\n",
    "    return [' '.join(item) for item in list(nltk.bigrams(words.lower().split(' ')))]\n",
    "\n",
    "def get_synonyms(word):\n",
    "    lst = []\n",
    "    for syn in wordnet.synsets(word):\n",
    "        for hypernym in syn.hypernyms()+syn.hyponyms():\n",
    "            for nym in hypernym.lemmas(): \n",
    "                lst.append(nym.name())\n",
    "        for lemma in syn.lemmas():\n",
    "            synonym = lemma.name().replace(\"_\",\" \").lower()\n",
    "            lst.append(synonym)\n",
    "    return lst\n",
    "\n",
    "def process_answer(answer):\n",
    "    a = re.sub('[^a-zA-Z0-9\\?]',' ', answer.lower()).split(' ')\n",
    "    a = ' '.join([w for w in a if w not in stop_words])\n",
    "    a = re.sub(' +', ' ',a)\n",
    "    rel_syns = []\n",
    "    no_syn_bigrams = []\n",
    "    for bigram in get_bigrams(a):\n",
    "        bigram = re.sub(' ','_',bigram)\n",
    "        synonyms = get_synonyms(bigram)\n",
    "        flag = 0\n",
    "        if synonyms != []:\n",
    "            bg = bigram\n",
    "            for syn in synonyms:\n",
    "                if ' ' not in syn and '.' not in syn and '-' not in syn:\n",
    "                    rel_syns.append([re.sub('_',' ',bg).split(' '),syn])\n",
    "                    flag = 1\n",
    "                    break\n",
    "            if flag == 0:\n",
    "                no_syn_bigrams.append(re.sub('_',' ',bigram))\n",
    "    for words,sub in rel_syns:\n",
    "        flag = 0\n",
    "        for word in words:\n",
    "            if word in a:\n",
    "                a = re.sub(word,'',a)\n",
    "        a = a + \" \" + sub\n",
    "    \n",
    "    docs = [(nlp(''.join(ans))) for ans in a.split(' ')]\n",
    "    answers = []\n",
    "    for doc in docs:\n",
    "        for token in doc:\n",
    "            answers.append([token.text, token.lemma_, token.pos_, token.tag_, token.ent_type_, token.dep_,\n",
    "                    token.shape_, token.is_alpha])        \n",
    "    return answers\n",
    "\n",
    "process_answer(answers[1])"
   ]
  },
  {
   "cell_type": "code",
   "execution_count": 251,
   "metadata": {},
   "outputs": [],
   "source": [
    "# For now we'll focus on a naive approach - questions where there's only a one word answer\n",
    "\n",
    "one_word_answer_questions = [\n",
    "    \"Where is Albany?\",\n",
    "    \"Who was the first president?\",\n",
    "    \"Did America ever land on the moon?\",\n",
    "    \"Which year did world war 2 begin?\"\n",
    "]\n",
    "\n",
    "one_word_answers = [\n",
    "    \"New York\",\n",
    "    \"George Washington\",\n",
    "    \"Yes\",\n",
    "    \"1939\"\n",
    "]\n",
    "\n",
    "contexts = pd.Series(list(chain.from_iterable(list(map(find_context,one_word_answer_questions)))))"
   ]
  },
  {
   "cell_type": "code",
   "execution_count": 256,
   "metadata": {},
   "outputs": [],
   "source": [
    "answer_df = pd.DataFrame(list(chain.from_iterable(list(map(process_answer,one_word_answers)))),\n",
    "                        columns = [\"Answer\",\n",
    "                                  \"Lemma\",\"POS\",\n",
    "                                  \"Tag\",\n",
    "                                  \"Entity\",\n",
    "                                  \"DEP\",\n",
    "                                  \"Shape\",\n",
    "                                  \"Is_Alpha\"]\n",
    "                        \n",
    "                        )\n",
    "answer_df['Context'] = contexts"
   ]
  },
  {
   "cell_type": "code",
   "execution_count": 257,
   "metadata": {},
   "outputs": [
    {
     "data": {
      "text/html": [
       "<div>\n",
       "<style scoped>\n",
       "    .dataframe tbody tr th:only-of-type {\n",
       "        vertical-align: middle;\n",
       "    }\n",
       "\n",
       "    .dataframe tbody tr th {\n",
       "        vertical-align: top;\n",
       "    }\n",
       "\n",
       "    .dataframe thead th {\n",
       "        text-align: right;\n",
       "    }\n",
       "</style>\n",
       "<table border=\"1\" class=\"dataframe\">\n",
       "  <thead>\n",
       "    <tr style=\"text-align: right;\">\n",
       "      <th></th>\n",
       "      <th>Answer</th>\n",
       "      <th>Lemma</th>\n",
       "      <th>POS</th>\n",
       "      <th>Tag</th>\n",
       "      <th>Entity</th>\n",
       "      <th>DEP</th>\n",
       "      <th>Shape</th>\n",
       "      <th>Is_Alpha</th>\n",
       "      <th>Context</th>\n",
       "    </tr>\n",
       "  </thead>\n",
       "  <tbody>\n",
       "    <tr>\n",
       "      <td>0</td>\n",
       "      <td>ny</td>\n",
       "      <td>ny</td>\n",
       "      <td>X</td>\n",
       "      <td>LS</td>\n",
       "      <td></td>\n",
       "      <td>ROOT</td>\n",
       "      <td>xx</td>\n",
       "      <td>True</td>\n",
       "      <td>where</td>\n",
       "    </tr>\n",
       "    <tr>\n",
       "      <td>1</td>\n",
       "      <td>washington</td>\n",
       "      <td>washington</td>\n",
       "      <td>PROPN</td>\n",
       "      <td>NNP</td>\n",
       "      <td>GPE</td>\n",
       "      <td>ROOT</td>\n",
       "      <td>xxxx</td>\n",
       "      <td>True</td>\n",
       "      <td>who</td>\n",
       "    </tr>\n",
       "    <tr>\n",
       "      <td>2</td>\n",
       "      <td>yes</td>\n",
       "      <td>yes</td>\n",
       "      <td>INTJ</td>\n",
       "      <td>UH</td>\n",
       "      <td></td>\n",
       "      <td>ROOT</td>\n",
       "      <td>xxx</td>\n",
       "      <td>True</td>\n",
       "      <td>did</td>\n",
       "    </tr>\n",
       "    <tr>\n",
       "      <td>3</td>\n",
       "      <td>1939</td>\n",
       "      <td>1939</td>\n",
       "      <td>NUM</td>\n",
       "      <td>CD</td>\n",
       "      <td></td>\n",
       "      <td>ROOT</td>\n",
       "      <td>dddd</td>\n",
       "      <td>False</td>\n",
       "      <td>which</td>\n",
       "    </tr>\n",
       "  </tbody>\n",
       "</table>\n",
       "</div>"
      ],
      "text/plain": [
       "       Answer       Lemma    POS  Tag Entity   DEP Shape  Is_Alpha Context\n",
       "0          ny          ny      X   LS         ROOT    xx      True   where\n",
       "1  washington  washington  PROPN  NNP    GPE  ROOT  xxxx      True     who\n",
       "2         yes         yes   INTJ   UH         ROOT   xxx      True     did\n",
       "3        1939        1939    NUM   CD         ROOT  dddd     False   which"
      ]
     },
     "execution_count": 257,
     "metadata": {},
     "output_type": "execute_result"
    }
   ],
   "source": [
    "answer_df"
   ]
  },
  {
   "cell_type": "code",
   "execution_count": null,
   "metadata": {},
   "outputs": [],
   "source": []
  },
  {
   "cell_type": "markdown",
   "metadata": {},
   "source": [
    "# Next Steps:\n",
    "\n",
    "1. Can we successfully train a machine learning model to match each context of a question\n",
    "with an answer?\n",
    "\n",
    "To do: Develop a model to match contexts and answers   \n",
    "\n",
    "Once we can identity certain trigger words with attributes of expected answers\n",
    "we can scale to that to larger questions.\n"
   ]
  },
  {
   "cell_type": "code",
   "execution_count": null,
   "metadata": {},
   "outputs": [],
   "source": []
  },
  {
   "cell_type": "code",
   "execution_count": null,
   "metadata": {},
   "outputs": [],
   "source": []
  },
  {
   "cell_type": "code",
   "execution_count": null,
   "metadata": {},
   "outputs": [],
   "source": []
  }
 ],
 "metadata": {
  "kernelspec": {
   "display_name": "Python 3",
   "language": "python",
   "name": "python3"
  },
  "language_info": {
   "codemirror_mode": {
    "name": "ipython",
    "version": 3
   },
   "file_extension": ".py",
   "mimetype": "text/x-python",
   "name": "python",
   "nbconvert_exporter": "python",
   "pygments_lexer": "ipython3",
   "version": "3.7.4"
  }
 },
 "nbformat": 4,
 "nbformat_minor": 2
}
